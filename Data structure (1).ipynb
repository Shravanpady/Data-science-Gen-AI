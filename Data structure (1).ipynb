{
 "cells": [
  {
   "cell_type": "markdown",
   "id": "289bd89b-2391-4028-84e8-374ecd7c11ff",
   "metadata": {},
   "source": [
    "1.What are data structures, and why are they important?\n",
    "\n",
    "Data structures are ways to organize and store data efficiently for easy access and modification. They are important because they optimize performance, memory usage, and operations in software applications"
   ]
  },
  {
   "cell_type": "markdown",
   "id": "1eb75658-daf6-4013-a824-fd410ba7469f",
   "metadata": {},
   "source": [
    "2.Explain the difference between mutable and immutable data types with examples.\n",
    "\n",
    "Mutable data types can be modified after creation (e.g., lists, dictionaries, sets). Immutable data types cannot be changed after creation (e.g., tuples, strings, integers)"
   ]
  },
  {
   "cell_type": "code",
   "execution_count": 1,
   "id": "ef2673bb-ec57-4e56-bd0a-46efaa510bff",
   "metadata": {},
   "outputs": [
    {
     "ename": "TypeError",
     "evalue": "'tuple' object does not support item assignment",
     "output_type": "error",
     "traceback": [
      "\u001b[1;31m---------------------------------------------------------------------------\u001b[0m",
      "\u001b[1;31mTypeError\u001b[0m                                 Traceback (most recent call last)",
      "Cell \u001b[1;32mIn[1], line 6\u001b[0m\n\u001b[0;32m      3\u001b[0m lst[\u001b[38;5;241m0\u001b[39m] \u001b[38;5;241m=\u001b[39m \u001b[38;5;241m10\u001b[39m  \u001b[38;5;66;03m# Allowed\u001b[39;00m\n\u001b[0;32m      5\u001b[0m tup \u001b[38;5;241m=\u001b[39m (\u001b[38;5;241m1\u001b[39m, \u001b[38;5;241m2\u001b[39m, \u001b[38;5;241m3\u001b[39m)  \u001b[38;5;66;03m# Immutable\u001b[39;00m\n\u001b[1;32m----> 6\u001b[0m \u001b[43mtup\u001b[49m\u001b[43m[\u001b[49m\u001b[38;5;241;43m0\u001b[39;49m\u001b[43m]\u001b[49m \u001b[38;5;241m=\u001b[39m \u001b[38;5;241m10\u001b[39m  \u001b[38;5;66;03m# Error\u001b[39;00m\n",
      "\u001b[1;31mTypeError\u001b[0m: 'tuple' object does not support item assignment"
     ]
    }
   ],
   "source": [
    "# Example\n",
    "lst = [1, 2, 3]  # Mutable\n",
    "lst[0] = 10  # Allowed\n",
    "\n",
    "tup = (1, 2, 3)  # Immutable\n",
    "tup[0] = 10  # Error\n"
   ]
  },
  {
   "cell_type": "markdown",
   "id": "b134fc93-b541-4194-bc4a-38d5eb8e7281",
   "metadata": {},
   "source": [
    "3.What are the main differences between lists and tuples in Python?\n",
    "\n",
    "Lists are mutable, while tuples are immutable.\n",
    "Lists have a dynamic size, whereas tuples have a fixed size.\n",
    "Tuples are slightly faster than lists due to immutability."
   ]
  },
  {
   "cell_type": "markdown",
   "id": "b7cb9658-e4f8-4a86-b3a2-898142895be3",
   "metadata": {},
   "source": [
    "4.Describe how dictionaries store data.\n",
    "Dictionaries store data as key-value pairs using a hash table. Each key is hashed to determine its position in memory, allowing for fast retrieval.\n",
    "\n",
    "5.Why might you use a set instead of a list in Python?\n",
    "Sets store unique elements and provide faster membership tests (in operation). They are useful when handling non-duplicate data.\n",
    "\n",
    "6.What is a string in Python, and how is it different from a list?\n",
    "A string is an immutable sequence of characters, while a list is mutable and can store various data types.\n",
    "\n",
    "7.How do tuples ensure data integrity in Python?\n",
    "Tuples are immutable, meaning their values cannot be altered after creation. This prevents accidental modifications.\n",
    "\n",
    "8.What is a hash table, and how does it relate to dictionaries in Python?\n",
    "A hash table is a data structure that stores key-value pairs with a hash function. Python’s dictionaries are implemented using hash tables for efficient lookups.\n",
    "\n",
    "9.Can lists contain different data types in Python?\n",
    "Yes, lists can store elements of different types, such as integers, strings, and even other lists.\n",
    "\n",
    "10.Explain why strings are immutable in Python.\n",
    "Strings are immutable to enhance performance and security, as well as to allow safe sharing across multiple references.\n",
    "\n",
    "11.What advantages do dictionaries offer over lists for certain tasks?\n",
    "Dictionaries provide fast lookups using keys, while lists require a linear search for non-index-based lookups.\n",
    "\n",
    "12.Describe a scenario where using a tuple would be preferable over a list.\n",
    "When you need fixed, unchangeable data, such as database records or coordinates (latitude, longitude).\n",
    "\n",
    "13.How do sets handle duplicate values in Python?\n",
    "Sets automatically remove duplicate values, ensuring all elements are unique.\n",
    "\n",
    "14.How does the “in” keyword work differently for lists and dictionaries?\n",
    "For lists, it checks if a value exists in the sequence (O(n) time complexity).\n",
    "For dictionaries, it checks for the existence of a key (O(1) time complexity).\n",
    "\n",
    "15.Can you modify the elements of a tuple? Explain why or why not.\n",
    "No, tuples are immutable, meaning their elements cannot be changed, reassigned, or removed.\n"
   ]
  },
  {
   "cell_type": "code",
   "execution_count": 3,
   "id": "37090ed5-a35f-4d8f-945c-d7b5668d34fb",
   "metadata": {},
   "outputs": [],
   "source": [
    "#16.What is a nested dictionary, and give an example of its use case?\n",
    "#Ans:dictionary wthin dictionary it is used when multiple values to be stores for same key\n",
    "student = {\n",
    "    \"name\": \"Alice\",\n",
    "    \"grades\": {\"math\": 90, \"science\": 85}\n",
    "}\n"
   ]
  },
  {
   "cell_type": "code",
   "execution_count": 9,
   "id": "d1dc0bab-f932-4b5f-838e-18cd5e2262f1",
   "metadata": {},
   "outputs": [
    {
     "data": {
      "text/plain": [
       "{'math': 90, 'science': 85}"
      ]
     },
     "execution_count": 9,
     "metadata": {},
     "output_type": "execute_result"
    }
   ],
   "source": [
    "student.get(\"grades\")"
   ]
  },
  {
   "cell_type": "code",
   "execution_count": null,
   "id": "db16aa38-2dc0-4a9f-9a1e-b31857e15f91",
   "metadata": {},
   "outputs": [],
   "source": []
  },
  {
   "cell_type": "markdown",
   "id": "410aeb8a-c942-44b7-9327-c373ba7c2161",
   "metadata": {},
   "source": [
    "17.Describe the time complexity of accessing elements in a dictionary.\n",
    "Accessing an element in a dictionary has an average time complexity of O(1) due to hash table indexing.\n",
    "\n",
    "18.In what situations are lists preferred over dictionaries?\n",
    "When order is important or when storing a sequence of values without key-value mapping.\n",
    "\n",
    "19.Why are dictionaries considered unordered, and how does that affect data retrieval?\n",
    "Older Python versions (before 3.7) did not guarantee order, but Python 3.7+ maintains insertion order. However, retrieval is still based on key hashing.\n",
    "\n",
    "20.Explain the difference between a list and a dictionary in terms of data retrieval.\n",
    "Lists use index-based retrieval, while dictionaries use key-based retrieval, making lookups in dictionaries much faster for large datasets."
   ]
  },
  {
   "cell_type": "code",
   "execution_count": 17,
   "id": "0298ca7c-9611-42c8-9767-28f33f40864b",
   "metadata": {},
   "outputs": [
    {
     "name": "stdin",
     "output_type": "stream",
     "text": [
      "Name Shravan\n"
     ]
    },
    {
     "name": "stdout",
     "output_type": "stream",
     "text": [
      "Shravan\n"
     ]
    }
   ],
   "source": [
    "#Practical Questions\n",
    "#1. Write a code to create a string with your name and print it\n",
    "Name= str(input(\"Name\"))\n",
    "print(Name)"
   ]
  },
  {
   "cell_type": "code",
   "execution_count": 20,
   "id": "bf0e63f8-6977-4db5-a419-7d9c8b94801e",
   "metadata": {},
   "outputs": [
    {
     "data": {
      "text/plain": [
       "11"
      ]
     },
     "execution_count": 20,
     "metadata": {},
     "output_type": "execute_result"
    }
   ],
   "source": [
    "#2.Write a code to find the length of the string \"Hello World\"\n",
    "string=\"hello world\"\n",
    "len(string)"
   ]
  },
  {
   "cell_type": "code",
   "execution_count": 21,
   "id": "257301fb-aac3-4faf-b544-23b8ed326a49",
   "metadata": {},
   "outputs": [
    {
     "data": {
      "text/plain": [
       "'pyt'"
      ]
     },
     "execution_count": 21,
     "metadata": {},
     "output_type": "execute_result"
    }
   ],
   "source": [
    "#3. Write a code to slice the first 3 characters from the string \"Python Programming\"\n",
    "string=\"python programming\"\n",
    "string[:3]"
   ]
  },
  {
   "cell_type": "code",
   "execution_count": 27,
   "id": "936f03b0-c784-4083-939a-a9443dadc982",
   "metadata": {},
   "outputs": [
    {
     "data": {
      "text/plain": [
       "'HELLO'"
      ]
     },
     "execution_count": 27,
     "metadata": {},
     "output_type": "execute_result"
    }
   ],
   "source": [
    "#4. Write a code to convert the string \"hello\" to uppercase\n",
    "s=\"hello\"\n",
    "s.upper()"
   ]
  },
  {
   "cell_type": "code",
   "execution_count": 32,
   "id": "46ad82e9-3158-48ff-984b-caf6d1aec953",
   "metadata": {},
   "outputs": [
    {
     "data": {
      "text/plain": [
       "'I like orange'"
      ]
     },
     "execution_count": 32,
     "metadata": {},
     "output_type": "execute_result"
    }
   ],
   "source": [
    "#5.Write a code to replace the word \"apple\" with \"orange\" in the string \"I like apple\"\n",
    "s1=\"I like apple\"\n",
    "s1.replace(\"apple\",\"orange\")"
   ]
  },
  {
   "cell_type": "code",
   "execution_count": 36,
   "id": "d3cd6530-5ec7-4fe2-b81d-fe99e762287b",
   "metadata": {},
   "outputs": [
    {
     "name": "stdout",
     "output_type": "stream",
     "text": [
      "[1, 2, 3, 4, 5]\n"
     ]
    }
   ],
   "source": [
    "#6.Write a code to create a list with numbers 1 to 5 and print it\n",
    "a = [i for i in range(1, 6)]\n",
    "print(a)\n"
   ]
  },
  {
   "cell_type": "code",
   "execution_count": 37,
   "id": "0c08c0d2-b01e-49ce-96a9-c7e361b517ad",
   "metadata": {},
   "outputs": [],
   "source": [
    "#7 Write a code to append the number 10 to the list [1, 2, 3, 4]\n",
    "z=[1, 2, 3, 4]\n",
    "z.append(int(10))"
   ]
  },
  {
   "cell_type": "code",
   "execution_count": 38,
   "id": "c80adbbf-21a0-4c64-b821-8651c52d0905",
   "metadata": {},
   "outputs": [
    {
     "data": {
      "text/plain": [
       "[1, 2, 3, 4, 10]"
      ]
     },
     "execution_count": 38,
     "metadata": {},
     "output_type": "execute_result"
    }
   ],
   "source": [
    "z"
   ]
  },
  {
   "cell_type": "code",
   "execution_count": 39,
   "id": "62ed0450-1fa0-4107-8d5d-c06229c0ca70",
   "metadata": {},
   "outputs": [],
   "source": [
    "#8.Write a code to remove the number 3 from the list [1, 2, 3, 4, 5]\n",
    "X=[1, 2, 3, 4,5]\n",
    "X.remove(int(3))"
   ]
  },
  {
   "cell_type": "code",
   "execution_count": 40,
   "id": "27c3c7a1-ea6f-4c0a-bf87-7a87c117d054",
   "metadata": {},
   "outputs": [
    {
     "data": {
      "text/plain": [
       "[1, 2, 4, 5]"
      ]
     },
     "execution_count": 40,
     "metadata": {},
     "output_type": "execute_result"
    }
   ],
   "source": [
    "X"
   ]
  },
  {
   "cell_type": "code",
   "execution_count": 41,
   "id": "d215960b-a070-435e-8dfc-f2ada1c6ebb7",
   "metadata": {},
   "outputs": [
    {
     "data": {
      "text/plain": [
       "'b'"
      ]
     },
     "execution_count": 41,
     "metadata": {},
     "output_type": "execute_result"
    }
   ],
   "source": [
    "#9 Write a code to access the second element in the list ['a', 'b', 'c', 'd']\n",
    "k=['a', 'b', 'c', 'd']\n",
    "k[1]"
   ]
  },
  {
   "cell_type": "code",
   "execution_count": 42,
   "id": "b349c5f5-e457-40b0-a92e-168782366154",
   "metadata": {},
   "outputs": [
    {
     "data": {
      "text/plain": [
       "[50, 40, 30, 20, 10]"
      ]
     },
     "execution_count": 42,
     "metadata": {},
     "output_type": "execute_result"
    }
   ],
   "source": [
    "#10. Write a code to reverse the list [10, 20, 30, 40, 50].\n",
    "H=[10, 20, 30, 40, 50]\n",
    "H[::-1]"
   ]
  },
  {
   "cell_type": "code",
   "execution_count": 43,
   "id": "010b4d73-3fc7-461e-9ea7-95363b5eafa3",
   "metadata": {},
   "outputs": [
    {
     "name": "stdout",
     "output_type": "stream",
     "text": [
      "(100, 200, 300)\n"
     ]
    }
   ],
   "source": [
    "#11. Write a code to create a tuple with the elements 100, 200, 300 and print it.\n",
    "P=(100,200,300)\n",
    "print(P)"
   ]
  },
  {
   "cell_type": "code",
   "execution_count": 44,
   "id": "34fd6684-7cc2-462d-8b2b-66df8bd9132f",
   "metadata": {},
   "outputs": [
    {
     "data": {
      "text/plain": [
       "('green', 'blue', 'yellow')"
      ]
     },
     "execution_count": 44,
     "metadata": {},
     "output_type": "execute_result"
    }
   ],
   "source": [
    "#12. Write a code to access the second-to-last element of the tuple ('red', 'green', 'blue', 'yellow').\n",
    "T=('red', 'green', 'blue', 'yellow')\n",
    "T[1::]"
   ]
  },
  {
   "cell_type": "code",
   "execution_count": 45,
   "id": "8bc67e74-af25-465b-8ad3-026886e86c5c",
   "metadata": {},
   "outputs": [
    {
     "data": {
      "text/plain": [
       "5"
      ]
     },
     "execution_count": 45,
     "metadata": {},
     "output_type": "execute_result"
    }
   ],
   "source": [
    "#13. Write a code to find the minimum number in the tuple (10, 20, 5, 15)\n",
    "T1=(10, 20, 5, 15)\n",
    "min(T1)"
   ]
  },
  {
   "cell_type": "code",
   "execution_count": 48,
   "id": "5eb5998a-fcf0-4f70-aa9f-1096c6ae39ca",
   "metadata": {},
   "outputs": [
    {
     "data": {
      "text/plain": [
       "1"
      ]
     },
     "execution_count": 48,
     "metadata": {},
     "output_type": "execute_result"
    }
   ],
   "source": [
    "#14. Write a code to find the index of the element \"cat\" in the tuple ('dog', 'cat', 'rabbit').\n",
    "T2=('dog', 'cat', 'rabbit')\n",
    "T2.index('cat')"
   ]
  },
  {
   "cell_type": "code",
   "execution_count": 51,
   "id": "775913f7-ba67-4ade-9737-246842d30e68",
   "metadata": {},
   "outputs": [
    {
     "data": {
      "text/plain": [
       "False"
      ]
     },
     "execution_count": 51,
     "metadata": {},
     "output_type": "execute_result"
    }
   ],
   "source": [
    "#15. Write a code to create a tuple containing three different fruits and check if \"kiwi\" is in it.\n",
    "fruits=(\"Mango\",\"Bananna\",\"Kiwi\")\n",
    "'kiwi' in fruits"
   ]
  },
  {
   "cell_type": "code",
   "execution_count": 1,
   "id": "79cd0fa5-07a3-473d-82ee-d1a0ac740551",
   "metadata": {},
   "outputs": [
    {
     "name": "stdout",
     "output_type": "stream",
     "text": [
      "{'a', 'b', 'c'}\n"
     ]
    }
   ],
   "source": [
    "#16. Write a code to create a set with the elements 'a', 'b', 'c' and print it.\n",
    "s={'a','b','c'}\n",
    "print(s)"
   ]
  },
  {
   "cell_type": "code",
   "execution_count": 5,
   "id": "6834a75d-32e3-485f-a2f9-ea34352aeeb8",
   "metadata": {},
   "outputs": [],
   "source": [
    "#17. Write a code to clear all elements from the set {1, 2, 3, 4, 5}.\n",
    "s1={1,2,3,4,5}\n",
    "s1.clear()\n",
    "\n"
   ]
  },
  {
   "cell_type": "code",
   "execution_count": 11,
   "id": "b1a92dc9-6ac8-4b4d-8c8f-c516cbbbf169",
   "metadata": {},
   "outputs": [
    {
     "data": {
      "text/plain": [
       "{1, 2, 3}"
      ]
     },
     "execution_count": 11,
     "metadata": {},
     "output_type": "execute_result"
    }
   ],
   "source": [
    "#18. Write a code to remove the element 4 from the set {1, 2, 3, 4}.\n",
    "s2={1,2,3,4}\n",
    "s2.remove(4)\n",
    "s2"
   ]
  },
  {
   "cell_type": "code",
   "execution_count": 14,
   "id": "7f2043e9-db69-4c79-b0aa-bffce979580c",
   "metadata": {},
   "outputs": [
    {
     "data": {
      "text/plain": [
       "{1, 2, 3, 4, 5}"
      ]
     },
     "execution_count": 14,
     "metadata": {},
     "output_type": "execute_result"
    }
   ],
   "source": [
    "#19. Write a code to find the union of two sets {1, 2, 3} and {3, 4, 5}\n",
    "s3={1, 2, 3} \n",
    "s4={3, 4, 5}\n",
    "s3 | s4"
   ]
  },
  {
   "cell_type": "code",
   "execution_count": 16,
   "id": "c793fdeb-9a10-4a70-bbf1-1690d61b8b59",
   "metadata": {},
   "outputs": [
    {
     "data": {
      "text/plain": [
       "{2, 3}"
      ]
     },
     "execution_count": 16,
     "metadata": {},
     "output_type": "execute_result"
    }
   ],
   "source": [
    "#20. Write a code to find the intersection of two sets {1, 2, 3} and {2, 3, 4}.\n",
    "s5={1, 2, 3} \n",
    "s6={2, 3, 4}\n",
    "s5 & s6"
   ]
  },
  {
   "cell_type": "code",
   "execution_count": 17,
   "id": "9890e2a3-1577-4d3b-a286-43299b093388",
   "metadata": {},
   "outputs": [
    {
     "name": "stdout",
     "output_type": "stream",
     "text": [
      "{'name': 'shravan', 'age': 29, 'city': 'Bengaluru'}\n"
     ]
    }
   ],
   "source": [
    "#21. Write a code to create a dictionary with the keys \"name\", \"age\", and \"city\", and print it.\n",
    "d={'name':'shravan','age':29,'city':'Bengaluru'}\n",
    "print(d)"
   ]
  },
  {
   "cell_type": "code",
   "execution_count": 18,
   "id": "37db27ee-69a8-46d5-af02-04f2f3e1e78a",
   "metadata": {},
   "outputs": [
    {
     "data": {
      "text/plain": [
       "dict"
      ]
     },
     "execution_count": 18,
     "metadata": {},
     "output_type": "execute_result"
    }
   ],
   "source": [
    "type(d)"
   ]
  },
  {
   "cell_type": "code",
   "execution_count": 19,
   "id": "3d6e0fc5-5334-4f3e-9cba-f868cd50be36",
   "metadata": {},
   "outputs": [
    {
     "data": {
      "text/plain": [
       "{'name': 'John', 'age': 25, 'country': 'USA'}"
      ]
     },
     "execution_count": 19,
     "metadata": {},
     "output_type": "execute_result"
    }
   ],
   "source": [
    "#22. Write a code to add a new key-value pair \"country\": \"USA\" to the dictionary {'name': 'John', 'age': 25}.\n",
    "d1= {'name': 'John', 'age': 25}\n",
    "d1['country']='USA'\n",
    "d1"
   ]
  },
  {
   "cell_type": "code",
   "execution_count": 20,
   "id": "4023f78c-9010-43e5-b236-a81e2bb1ac66",
   "metadata": {},
   "outputs": [
    {
     "data": {
      "text/plain": [
       "'Alice'"
      ]
     },
     "execution_count": 20,
     "metadata": {},
     "output_type": "execute_result"
    }
   ],
   "source": [
    "#23. Write a code to access the value associated with the key \"name\" in the dictionary {'name': 'Alice', 'age': 30}.\n",
    "d2={'name': 'Alice', 'age': 30}\n",
    "d2['name']"
   ]
  },
  {
   "cell_type": "code",
   "execution_count": 25,
   "id": "ac0cee5c-2226-40fa-9585-78387ea1a969",
   "metadata": {},
   "outputs": [
    {
     "data": {
      "text/plain": [
       "{'name': 'Bob', 'city': 'New York'}"
      ]
     },
     "execution_count": 25,
     "metadata": {},
     "output_type": "execute_result"
    }
   ],
   "source": [
    "#24. Write a code to remove the key \"age\" from the dictionary {'name': 'Bob', 'age': 22, 'city': 'New York'}.\n",
    "d3={'name': 'Bob', 'age': 22, 'city': 'New York'}\n",
    "del d3['age']\n",
    "d3"
   ]
  },
  {
   "cell_type": "code",
   "execution_count": 26,
   "id": "a153a6f1-2248-41c0-9caa-8a5948770185",
   "metadata": {},
   "outputs": [
    {
     "data": {
      "text/plain": [
       "True"
      ]
     },
     "execution_count": 26,
     "metadata": {},
     "output_type": "execute_result"
    }
   ],
   "source": [
    "#25. Write a code to check if the key \"city\" exists in the dictionary {'name': 'Alice', 'city': 'Paris'}.\n",
    "d4={'name': 'Alice', 'city': 'Paris'}\n",
    "'name' in d4"
   ]
  },
  {
   "cell_type": "code",
   "execution_count": 27,
   "id": "dadb7638-9165-49e8-9562-66fc7674de33",
   "metadata": {},
   "outputs": [
    {
     "name": "stdout",
     "output_type": "stream",
     "text": [
      "[1, 2, 3, 4] (1, 2, 3, 4) {'a': 1, 'b': 2, 'c': 3}\n"
     ]
    }
   ],
   "source": [
    "#26. Write a code to create a list, a tuple, and a dictionary, and print them all.\n",
    "l1=[1,2,3,4]\n",
    "t1=(1,2,3,4)\n",
    "d5={'a':1,'b':2,'c':3}\n",
    "print(l1,t1,d5)"
   ]
  },
  {
   "cell_type": "code",
   "execution_count": 29,
   "id": "320a74b1-636c-4e1a-a9d1-57ba96ca65cd",
   "metadata": {},
   "outputs": [
    {
     "name": "stdout",
     "output_type": "stream",
     "text": [
      "[10, 25, 30, 40, 78, 80, 100]\n"
     ]
    }
   ],
   "source": [
    "\"\"\"27. Write a code to create a list of 5 random numbers between 1 and 100, sort it in ascending order, and print the\n",
    "result.(replaced)\"\"\"\n",
    "l2=[10,30,40,25,80,78,100]\n",
    "l2.sort()\n",
    "print(l2)"
   ]
  },
  {
   "cell_type": "code",
   "execution_count": 30,
   "id": "bba13f34-7049-4be6-9655-ac74525ac233",
   "metadata": {},
   "outputs": [
    {
     "name": "stdout",
     "output_type": "stream",
     "text": [
      "c\n"
     ]
    }
   ],
   "source": [
    "#28. Write a code to create a list with strings and print the element at the third index.\n",
    "l3=['a','b','c','d','e','f']\n",
    "print(l3[2])"
   ]
  },
  {
   "cell_type": "code",
   "execution_count": 34,
   "id": "fd114755-dece-4f46-a821-2015b5d22f37",
   "metadata": {},
   "outputs": [
    {
     "data": {
      "text/plain": [
       "{'a': 1, 'b': 2, 'c': 3, 'name': 'Alice', 'city': 'Paris'}"
      ]
     },
     "execution_count": 34,
     "metadata": {},
     "output_type": "execute_result"
    }
   ],
   "source": [
    "#29. Write a code to combine two dictionaries into one and print the result.\n",
    "d5={'a':1,'b':2,'c':3}\n",
    "d4={'name': 'Alice', 'city': 'Paris'}\n",
    "d5 | d4"
   ]
  },
  {
   "cell_type": "code",
   "execution_count": 36,
   "id": "476c16d8-7da9-4729-ad43-3bf346787ca1",
   "metadata": {},
   "outputs": [
    {
     "data": {
      "text/plain": [
       "{'a', 'b', 'c', 'd', 'e', 'f'}"
      ]
     },
     "execution_count": 36,
     "metadata": {},
     "output_type": "execute_result"
    }
   ],
   "source": [
    "#30. Write a code to convert a list of strings into a set.\n",
    "l3=['a','b','c','d','e','f']\n",
    "set(l3)"
   ]
  },
  {
   "cell_type": "code",
   "execution_count": null,
   "id": "8d241af4-4a12-4455-ba78-1765e3f881c8",
   "metadata": {},
   "outputs": [],
   "source": []
  }
 ],
 "metadata": {
  "kernelspec": {
   "display_name": "Python 3 (ipykernel)",
   "language": "python",
   "name": "python3"
  },
  "language_info": {
   "codemirror_mode": {
    "name": "ipython",
    "version": 3
   },
   "file_extension": ".py",
   "mimetype": "text/x-python",
   "name": "python",
   "nbconvert_exporter": "python",
   "pygments_lexer": "ipython3",
   "version": "3.13.1"
  }
 },
 "nbformat": 4,
 "nbformat_minor": 5
}
