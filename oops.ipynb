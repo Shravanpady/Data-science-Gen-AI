{
 "cells": [
  {
   "cell_type": "code",
   "execution_count": null,
   "id": "6b167f74-3508-436c-90f9-776d23b61881",
   "metadata": {},
   "outputs": [],
   "source": [
    "#Theory Questions"
   ]
  },
  {
   "cell_type": "code",
   "execution_count": null,
   "id": "fbe991af-9130-4e9b-b9c8-2b282c6299a2",
   "metadata": {},
   "outputs": [],
   "source": [
    "#1. What is Object-Oriented Programming (OOP)?\n",
    "#OOP is a programming paradigm that organizes code into objects, which bundle data (attributes) and behavior (methods). It provides modularity, code reusability, and scalability.\n",
    "\n"
   ]
  },
  {
   "cell_type": "code",
   "execution_count": 2,
   "id": "7bcbffd6-17f0-4832-b89d-2f5a9cf48486",
   "metadata": {},
   "outputs": [],
   "source": [
    "#2. What is a Class in OOP?\n",
    "#A class is a blueprint for creating objects. It defines attributes and methods that its objects will have.\n"
   ]
  },
  {
   "cell_type": "code",
   "execution_count": 6,
   "id": "ee41e4f7-f749-4032-807f-21288960b6ef",
   "metadata": {},
   "outputs": [],
   "source": [
    "##3. What is an Object in OOP?\n",
    "#An object is an instance of a class with unique values.\n",
    "\n"
   ]
  },
  {
   "cell_type": "code",
   "execution_count": null,
   "id": "14cf5e56-759a-4b56-b7d1-820a101def07",
   "metadata": {},
   "outputs": [],
   "source": [
    "#4. Difference Between Abstraction and Encapsulation\n",
    "#Abstraction: Hides implementation details and exposes only necessary features (e.g., using interfaces).\n",
    "#Encapsulation: Restricts direct access to data using private/protected attributes.\n"
   ]
  },
  {
   "cell_type": "code",
   "execution_count": null,
   "id": "1df45f02-1930-4127-a457-773ccebb4fa4",
   "metadata": {},
   "outputs": [],
   "source": [
    "#5. What are Dunder Methods in Python?\n",
    "#Dunder (double underscore) methods like __init__, __str__, __repr__ are special methods with built-in behavior.\n",
    "\n"
   ]
  },
  {
   "cell_type": "code",
   "execution_count": null,
   "id": "de1471b1-1505-4ad7-9269-8c2a64705bb3",
   "metadata": {},
   "outputs": [],
   "source": [
    "\n",
    "#6. Concept of Inheritance in OOP\n",
    "#Inheritance allows a class to inherit attributes and methods from another class.\n"
   ]
  },
  {
   "cell_type": "code",
   "execution_count": null,
   "id": "9e4e3e3c-ec97-4fa2-9d80-e65a666ef1fd",
   "metadata": {},
   "outputs": [],
   "source": [
    "#7. What is Polymorphism in OOP?\n",
    "#Polymorphism allows different classes to be used interchangeably through a common interface."
   ]
  },
  {
   "cell_type": "code",
   "execution_count": null,
   "id": "1ce88f35-f8ff-4092-a654-38d020db262a",
   "metadata": {},
   "outputs": [],
   "source": [
    "#8. How is Encapsulation Achieved in Python?\n",
    "#By using private (__var) and protected (_var) attributes.\n"
   ]
  },
  {
   "cell_type": "code",
   "execution_count": null,
   "id": "500da4a5-3f99-4cbb-9a30-3c0ae1a58428",
   "metadata": {},
   "outputs": [],
   "source": [
    "#9. What is a Constructor in Python?\n",
    "#A constructor in Python is a special method called __init__(), which is automatically invoked when an object of a class is created. It is used to initialize the object's attributes\n"
   ]
  },
  {
   "cell_type": "code",
   "execution_count": null,
   "id": "4930de10-2ed7-47f0-8e19-9f87d2e8ec54",
   "metadata": {},
   "outputs": [],
   "source": [
    "#10. What are Class and Static Methods in Python?\n",
    "#@classmethod: Works on the class level.\n",
    "#@staticmethod: Independent utility function.\n"
   ]
  },
  {
   "cell_type": "code",
   "execution_count": null,
   "id": "c8010ea8-6c91-49ab-a6af-e42a071780ca",
   "metadata": {},
   "outputs": [],
   "source": [
    "#11. What is Method Overloading in Python?\n",
    "#Having multiple method with same name but different parameter .Python does not support traditional method overloading but can be achieved using default arguments.\n",
    "\n"
   ]
  },
  {
   "cell_type": "code",
   "execution_count": null,
   "id": "6041b9dd-c3dc-4a21-8405-bfce265fc4fb",
   "metadata": {},
   "outputs": [],
   "source": [
    "#12. What is Method Overriding in OOP?\n",
    "#A subclass can override a method of the parent class."
   ]
  },
  {
   "cell_type": "code",
   "execution_count": null,
   "id": "b0e4c02d-ce5a-4763-a462-e8d500289966",
   "metadata": {},
   "outputs": [],
   "source": [
    "#13. What is a Property Decorator in Python?\n",
    "#The property decorator in Python is used to define getter, setter, and deleter methods for a class attribute. It allows us to access a method like an attribute, improving data encapsulation.\n"
   ]
  },
  {
   "cell_type": "code",
   "execution_count": null,
   "id": "0da128fa-2c87-4590-8ff1-864b9bb3f9ae",
   "metadata": {},
   "outputs": [],
   "source": [
    "#14. Why is Polymorphism Important in OOP?\n",
    "#It allows flexibility in code by using a common interface.\n",
    "\n",
    "#15. What is an Abstract Class in Python?\n",
    "#A class that cannot be instantiated and has at least one abstract method.\n"
   ]
  },
  {
   "cell_type": "code",
   "execution_count": null,
   "id": "ed6bdebe-1402-443c-86e1-6508f1b1832a",
   "metadata": {},
   "outputs": [],
   "source": [
    "#16. Advantages of OOP\n",
    "#Code reusability\n",
    "#Modularity\n",
    "#scalability\n",
    "#Maintainability\n",
    "\n",
    "#17. Difference Between Class Variable and Instance Variable\n",
    "#Class variable: Shared among all instances.\n",
    "#Instance variable: Unique to each instance.\n"
   ]
  },
  {
   "cell_type": "code",
   "execution_count": null,
   "id": "3d7351ec-4b42-4395-aa01-0e230d571e9a",
   "metadata": {},
   "outputs": [],
   "source": [
    "#18. What is Multiple Inheritance in Python?\n",
    "#A class inheriting from multiple parent classes.\n"
   ]
  },
  {
   "cell_type": "code",
   "execution_count": null,
   "id": "92993d5b-36a0-4019-9ba4-a67206afcf30",
   "metadata": {},
   "outputs": [],
   "source": [
    "#19. Purpose of __str__ and __repr__ Methods\n",
    "#__str__: User-friendly representation.\n",
    "#__repr__: Unambiguous representation.\n"
   ]
  },
  {
   "cell_type": "code",
   "execution_count": null,
   "id": "9ab19de1-e8f4-45a4-9fcb-e4884d4d8bee",
   "metadata": {},
   "outputs": [],
   "source": [
    "#20. Significance of super() Function in Python\n",
    "#Used to call parent class methods.\n"
   ]
  },
  {
   "cell_type": "code",
   "execution_count": null,
   "id": "fc4b689a-4e91-453b-8468-8099668590e8",
   "metadata": {},
   "outputs": [],
   "source": [
    "#21. Significance of __del__ Method in Python\n",
    "#Destructor method called when an object is deleted.\n"
   ]
  },
  {
   "cell_type": "code",
   "execution_count": null,
   "id": "a985f06d-a2a6-483b-8d70-e3d4ab413ca7",
   "metadata": {},
   "outputs": [],
   "source": [
    "#22. Difference Between @staticmethod and @classmethod\n",
    "#@staticmethod: No access to class or instance.\n",
    "#@classmethod: Works on class level.\n",
    "\n",
    "#23. How Does Polymorphism Work in Python with Inheritance?\n",
    "#By allowing different classes to define the same method.\n",
    "\n"
   ]
  },
  {
   "cell_type": "code",
   "execution_count": null,
   "id": "5dfaaa67-3c28-4877-ae20-63248d3d08a4",
   "metadata": {},
   "outputs": [],
   "source": [
    "#24. What is Method Chaining in Python OOP?\n",
    "#Calling multiple methods in a single line.\n"
   ]
  },
  {
   "cell_type": "code",
   "execution_count": null,
   "id": "976fd8b8-0596-4f38-aae0-1433b3910258",
   "metadata": {},
   "outputs": [],
   "source": [
    "#25. Purpose of __call__ Method in Python\n",
    "#Makes an instance callable like a function.\n"
   ]
  },
  {
   "cell_type": "code",
   "execution_count": null,
   "id": "e91d7eac-4847-4641-9957-a759671cb20b",
   "metadata": {},
   "outputs": [],
   "source": [
    "#Practical questions"
   ]
  },
  {
   "cell_type": "code",
   "execution_count": 4,
   "id": "90549148-28b9-457e-a9ed-d6d9d2968a89",
   "metadata": {},
   "outputs": [
    {
     "name": "stdout",
     "output_type": "stream",
     "text": [
      "Bark\n"
     ]
    }
   ],
   "source": [
    "'''1. Create a parent class Animal with a method speak() that prints a generic message. Create a child class Dog\n",
    "that overrides the speak() method to print \"Bark!\".'''\n",
    "class Animal:\n",
    "    def speak():\n",
    "        pass\n",
    "class Dog(Animal):\n",
    "    def speak():\n",
    "        print('Bark')\n",
    "\n",
    "dog=Dog\n",
    "dog.speak()\n",
    "\n",
    "\n"
   ]
  },
  {
   "cell_type": "code",
   "execution_count": 25,
   "id": "2434548c-517e-4428-ae37-bfa0e6be5a2d",
   "metadata": {},
   "outputs": [
    {
     "name": "stdout",
     "output_type": "stream",
     "text": [
      "24\n",
      "15.700000000000001\n"
     ]
    },
    {
     "data": {
      "text/plain": [
       "5"
      ]
     },
     "execution_count": 25,
     "metadata": {},
     "output_type": "execute_result"
    }
   ],
   "source": [
    "'''2. Write a program to create an abstract class Shape with a method area(). Derive classes Circle and Rectangle\n",
    "from it and implement the area() method in both.'''\n",
    "class shapes:\n",
    "    def area(self):\n",
    "        pass\n",
    "class circle(shapes):\n",
    "    def __init__(self,radius):\n",
    "        self.radius=radius\n",
    "    def area(self):\n",
    "        return 3.14*self.radius\n",
    "class rectangle(shapes):\n",
    "    def __init__(self,length,width):\n",
    "        self.length=length\n",
    "        self.width=width\n",
    "    def area(self):\n",
    "        return self.length*self.width\n",
    "\n",
    "circle_obj = circle(5)\n",
    "rectangle_obj = rectangle(4, 6)\n",
    "print(rectangle_obj.area())\n",
    "print(circle_obj.area())\n",
    "circle_obj.radius"
   ]
  },
  {
   "cell_type": "code",
   "execution_count": 39,
   "id": "39817f6b-367d-4012-a9da-1619335305d2",
   "metadata": {},
   "outputs": [
    {
     "name": "stdout",
     "output_type": "stream",
     "text": [
      "Vehicle is car\n",
      "Brand is  tesla\n",
      "Battery power is 100W\n"
     ]
    }
   ],
   "source": [
    "'''3. Implement a multi-level inheritance scenario where a class Vehicle has an attribute type. Derive a class Car\n",
    "and further derive a class ElectricCar that adds a battery attribute.'''\n",
    "class vehicle:\n",
    "    def __init__(self,vehicle_type):\n",
    "        self.vehicle_type= vehicle_type \n",
    "    def info(self):\n",
    "        print(f\"Vehicle is {self.vehicle_type}\")\n",
    "class car(vehicle):\n",
    "    def __init__(self,vehicle_type,Brand):\n",
    "        super().__init__(vehicle_type)\n",
    "        self.Brand = Brand\n",
    "    def info(self):\n",
    "        super().info()\n",
    "        print(f\"Brand is  {self.Brand}\")\n",
    "class Electric_car(car):\n",
    "    def __init__(self,vehicle_type,Brand,Battery_power):\n",
    "        super().__init__(vehicle_type,Brand)\n",
    "        self.Battery_power=Battery_power \n",
    "    def info(self):\n",
    "        super().info()\n",
    "        print(f\"Battery power is {self.Battery_power}\")\n",
    "        \n",
    "        \n",
    "obj=Electric_car('car','tesla','100W')\n",
    "obj.info()"
   ]
  },
  {
   "cell_type": "code",
   "execution_count": 43,
   "id": "5c629445-1364-4733-9bcf-e54b90a8b470",
   "metadata": {},
   "outputs": [
    {
     "name": "stdout",
     "output_type": "stream",
     "text": [
      "sparrow can fly\n",
      "penguin can't fly\n"
     ]
    }
   ],
   "source": [
    "'''4. Demonstrate polymorphism by creating a base class Bird with a method fly(). Create two derived classes\n",
    "Sparrow and Penguin that override the fly() method.'''\n",
    "class Bird:\n",
    "    def fly(self):\n",
    "        pass\n",
    "class sparrow(Bird):\n",
    "    def fly(self):\n",
    "        print(\"sparrow can fly\")\n",
    "class penguin(Bird):\n",
    "    def fly(self):\n",
    "        print(\"penguin can't fly\")\n",
    "\n",
    "obj1=sparrow()\n",
    "obj1.fly()\n",
    "obj2=penguin()\n",
    "obj2.fly()"
   ]
  },
  {
   "cell_type": "code",
   "execution_count": 47,
   "id": "04be3b3a-484f-4bc6-af07-4c4393b1f913",
   "metadata": {},
   "outputs": [
    {
     "name": "stdout",
     "output_type": "stream",
     "text": [
      "Balance is 200\n",
      "Insufficient Amount\n"
     ]
    }
   ],
   "source": [
    "'''5. Write a program to demonstrate encapsulation by creating a class BankAccount with private attributes\n",
    "balance and methods to deposit, withdraw, and check balance.'''\n",
    "class Bank_Account:\n",
    "    def __init__(self,balance=0):\n",
    "        self.__balance = balance\n",
    "    def deposit(self,amount):\n",
    "        if amount>0:\n",
    "            self.__balance+=amount\n",
    "            print(f'Balance is {self.__balance}')\n",
    "        else:\n",
    "            Print(\"Amount should be greater than 0\")\n",
    "    def withdraw(self,amount):\n",
    "        if amount >0 and self.__balance>= amount:\n",
    "            self.__balance-=amount\n",
    "            print(f'Balance amount is {self.__balance}')\n",
    "        elif amount<0:\n",
    "            print(\"Amount should be poistive integer\")\n",
    "        else:\n",
    "            print(\"Insufficient Amount\")\n",
    "\n",
    "info=Bank_Account()\n",
    "info.deposit(200)\n",
    "info.withdraw(500)\n",
    "\n",
    "\n",
    "\n"
   ]
  },
  {
   "cell_type": "code",
   "execution_count": 50,
   "id": "ddbdd16e-3dd8-496d-ade9-10fbf2878a11",
   "metadata": {},
   "outputs": [
    {
     "name": "stdout",
     "output_type": "stream",
     "text": [
      "can play guitar\n",
      "can play piano\n"
     ]
    }
   ],
   "source": [
    "'''6. Demonstrate runtime polymorphism using a method play() in a base class Instrument. Derive classes Guitar\n",
    "and Piano that implement their own version of play().'''\n",
    "class instruments:\n",
    "    def play(self):\n",
    "        pass\n",
    "class guitar(instruments):\n",
    "    def play(self):\n",
    "        print('can play guitar')\n",
    "class piano(instruments):\n",
    "    def play(self):\n",
    "        print('can play piano')\n",
    "\n",
    "instrument1=guitar()\n",
    "instrument1.play()\n",
    "instrument2=piano()\n",
    "instrument2.play()   \n"
   ]
  },
  {
   "cell_type": "code",
   "execution_count": 70,
   "id": "051186d4-f0cd-4603-ac97-bd583253ecab",
   "metadata": {},
   "outputs": [
    {
     "name": "stdout",
     "output_type": "stream",
     "text": [
      "Sum: 15\n",
      "Difference: 5\n"
     ]
    }
   ],
   "source": [
    "'''7. Create a class MathOperations with a class method add_numbers() to add two numbers and a static\n",
    "method subtract_numbers() to subtract two numbers.'''\n",
    "class mathoperations:\n",
    "    @classmethod\n",
    "    def add(cls,x,y):\n",
    "        return x+y\n",
    "    @staticmethod\n",
    "    def subtract(x,y):\n",
    "        return x-y\n",
    "\n",
    "result_add = mathoperations.add(10, 5)\n",
    "print(f\"Sum: {result_add}\")\n",
    "\n",
    "\n",
    "result_subtract = mathoperations.subtract(10, 5)\n",
    "print(f\"Difference: {result_subtract}\")\n"
   ]
  },
  {
   "cell_type": "code",
   "execution_count": 1,
   "id": "91efe255-c048-47bf-8641-ee5240ec943d",
   "metadata": {},
   "outputs": [
    {
     "name": "stdout",
     "output_type": "stream",
     "text": [
      "Total count of persons is 2\n"
     ]
    }
   ],
   "source": [
    "#8. Implement a class Person with a class method to count the total number of persons created.\n",
    "class person:\n",
    "    total_persons=0\n",
    "    def __init__(self,name):\n",
    "        self.name=name\n",
    "        person.total_persons+=1\n",
    "    @classmethod\n",
    "    def count(cls):\n",
    "        return person.total_persons\n",
    "\n",
    "p1=person('arun')\n",
    "p2=person('akshay')\n",
    "\n",
    "print(f\"Total count of persons is {person.count()}\")\n",
    "\n"
   ]
  },
  {
   "cell_type": "code",
   "execution_count": 5,
   "id": "ad5aeb79-c440-4b08-a364-238c0830b397",
   "metadata": {},
   "outputs": [
    {
     "name": "stdout",
     "output_type": "stream",
     "text": [
      "3/4\n"
     ]
    }
   ],
   "source": [
    "'''#9. Write a class Fraction with attributes numerator and denominator. Override the str method to display the fraction as \"numerator/denominator\".'''\n",
    "class Fraction:\n",
    "    def __init__(self,numerator,denominator):\n",
    "        self.numerator=numerator\n",
    "        self.denominator=denominator\n",
    "    def __str__(self):\n",
    "        return f\"{self.numerator}/{self.denominator}\"\n",
    "\n",
    "output=Fraction(3,4)\n",
    "print(output)\n",
    "\n",
    "\n"
   ]
  },
  {
   "cell_type": "code",
   "execution_count": 14,
   "id": "f90d3d4c-51fa-4374-b68b-fab409597d7a",
   "metadata": {},
   "outputs": [
    {
     "name": "stdout",
     "output_type": "stream",
     "text": [
      "Result of adding two vectors: Vector(13, 16)\n"
     ]
    }
   ],
   "source": [
    "#10. Demonstrate operator overloading by creating a class Vector and overriding the add method to add two vectors.\n",
    "class Vector:\n",
    "    def __init__(self, x, y):\n",
    "        self.x = x\n",
    "        self.y = y\n",
    "\n",
    "    # Overloading the + operator\n",
    "    def __add__(self, other):\n",
    "        return Vector(self.x + other.x, self.y + other.y)\n",
    "\n",
    "    # To represent the Vector object as a string\n",
    "    def __repr__(self):\n",
    "        return f\"Vector({self.x}, {self.y})\"\n",
    "\n",
    "# Example usage\n",
    "v1 = Vector(2, 3)\n",
    "v2 = Vector(4, 5)\n",
    "v3= Vector(7,8)\n",
    "# Adding two vectors using the overloaded + operator\n",
    "result = v1 + v2 + v3\n",
    "\n",
    "print(\"Result of adding two vectors:\", result)\n",
    "\n",
    "\n"
   ]
  },
  {
   "cell_type": "code",
   "execution_count": 15,
   "id": "61332882-5705-482a-a9a5-14732b3ff104",
   "metadata": {},
   "outputs": [
    {
     "data": {
      "text/plain": [
       "' Hello, my name is alice and I am 29 years old'"
      ]
     },
     "execution_count": 15,
     "metadata": {},
     "output_type": "execute_result"
    }
   ],
   "source": [
    "#11. Create a class Person with attributes name and age. Add a method greet() that prints \"Hello, my name is {name} and I am {age} years old.\"\n",
    "class person:\n",
    "    def __init__(self,name,age):\n",
    "        self.name=name\n",
    "        self.age=age\n",
    "    def greet(self):\n",
    "        return f\" Hello, my name is {self.name} and I am {self.age} years old\"\n",
    "\n",
    "P1=person(\"alice\",29)\n",
    "P1.greet()\n",
    "\n"
   ]
  },
  {
   "cell_type": "code",
   "execution_count": 39,
   "id": "7be93c68-d3e9-4b5d-8379-2ef9067888a3",
   "metadata": {},
   "outputs": [
    {
     "name": "stdout",
     "output_type": "stream",
     "text": [
      "Average grade of amal is 76.75\n"
     ]
    }
   ],
   "source": [
    "#12. Implement a class Student with attributes name and grades. Create a method average_grade() to compute the average of the grades.\n",
    "class student:\n",
    "    def __init__(self,name,grade):\n",
    "        self.name=name\n",
    "        self.grade=grade\n",
    "    def average_grade(self):\n",
    "        return sum(self.grade)/len(self.grade)\n",
    "    def __repr__(self):\n",
    "        return f\"Average grade of {self.name} is {self.average_grade()}\"\n",
    "\n",
    "s1= student('amal',[70,90,68,79])\n",
    "print(s1)\n"
   ]
  },
  {
   "cell_type": "code",
   "execution_count": 56,
   "id": "7d9f937f-56b8-42ad-8fd8-6eeaf8f387d5",
   "metadata": {},
   "outputs": [
    {
     "data": {
      "text/plain": [
       "20"
      ]
     },
     "execution_count": 56,
     "metadata": {},
     "output_type": "execute_result"
    }
   ],
   "source": [
    "#13. Create a class Rectangle with methods set_dimensions() to set the dimensions and area() to calculate the area.\n",
    "class rectangle:\n",
    "    def __init__(self):\n",
    "        self.length=0\n",
    "        self.width=0\n",
    "    def set_dimensions(self,length,width):\n",
    "        self.length=length\n",
    "        self.width=width\n",
    "    def area(self):\n",
    "        return self.length*self.width\n",
    "   \n",
    "\n",
    "r= rectangle()\n",
    "r.set_dimensions(10,2)\n",
    "r.area()"
   ]
  },
  {
   "cell_type": "code",
   "execution_count": 89,
   "id": "10d3adb8-10be-4b28-9d0f-647dac23ea38",
   "metadata": {},
   "outputs": [
    {
     "data": {
      "text/plain": [
       "5000"
      ]
     },
     "execution_count": 89,
     "metadata": {},
     "output_type": "execute_result"
    }
   ],
   "source": [
    "'''14. Create a class Employee with a method calculate_salary() that computes the salary based on hours worked\n",
    "and hourly rate. Create a derived class Manager that adds a bonus to the salary.'''\n",
    "class employee:\n",
    "    def __init__(self,hour,rate):\n",
    "        self.hour=hour\n",
    "        self.rate=rate\n",
    "    def calculate_salary(self):\n",
    "        return self.hour*self.rate\n",
    "class manager(employee):\n",
    "    def __init__(self,hour,rate,bonus):\n",
    "        super().__init__(hour,rate)\n",
    "        self.bonus=bonus\n",
    "    def total_salary(self):\n",
    "        return self.calculate_salary() + self.bonus\n",
    "\n",
    "e1=employee(8,500)\n",
    "e1.calculate_salary()\n",
    "m1=manager(8,500,1000)\n",
    "m1.total_salary()\n"
   ]
  },
  {
   "cell_type": "code",
   "execution_count": 11,
   "id": "e6efa908-e2e5-4fb0-b8af-9dcad3c7c157",
   "metadata": {},
   "outputs": [
    {
     "name": "stdout",
     "output_type": "stream",
     "text": [
      " Total price is 1500\n"
     ]
    }
   ],
   "source": [
    "'''15. Create a class Product with attributes name, price, and quantity. Implement a method total_price() that\n",
    "calculates the total price of the product.'''\n",
    "class product:\n",
    "    def __init__(self,name,price,quantity):\n",
    "        self.name=name\n",
    "        self.price=price\n",
    "        self.quantity=quantity\n",
    "    def total_price(self):\n",
    "        return self.price*self.quantity\n",
    "    def __repr__(self):\n",
    "        return f\" Total price is {self.total_price()}\"\n",
    "\n",
    "b1=product('Titanic',100,15)\n",
    "print(b1)\n"
   ]
  },
  {
   "cell_type": "code",
   "execution_count": 14,
   "id": "b8300ea0-ee37-40e7-b935-d211f3871ec7",
   "metadata": {},
   "outputs": [
    {
     "name": "stdout",
     "output_type": "stream",
     "text": [
      "cow makes mow sound\n",
      "Sheep makes meh sound\n"
     ]
    }
   ],
   "source": [
    "'''16. Create a class Animal with an abstract method sound(). Create two derived classes Cow and Sheep that\n",
    "implement the sound() method.'''\n",
    "from abc import ABC, abstractmethod\n",
    "class animal(ABC):\n",
    "    def sound(self):\n",
    "        pass \n",
    "class cow(animal):\n",
    "    def sound(self):\n",
    "        return \"cow makes mow sound\"\n",
    "class sheep(animal):\n",
    "    def sound(self):\n",
    "        return \"Sheep makes meh sound\"\n",
    "\n",
    "\n",
    "a1=animal()\n",
    "c=cow()\n",
    "s=sheep()\n",
    "print(c.sound())\n",
    "print(s.sound())\n",
    "    \n",
    "\n"
   ]
  },
  {
   "cell_type": "code",
   "execution_count": 16,
   "id": "c225be25-e546-47f2-9579-c47f994182e3",
   "metadata": {},
   "outputs": [
    {
     "data": {
      "text/plain": [
       "'Book title:Titanic,Author :James, year_published: 1970'"
      ]
     },
     "execution_count": 16,
     "metadata": {},
     "output_type": "execute_result"
    }
   ],
   "source": [
    "'''17. Create a class Book with attributes title, author, and year_published. Add a method get_book_info() that\n",
    "returns a formatted string with the book's details.'''\n",
    "class Book:\n",
    "    def __init__(self,title,author,year_published):\n",
    "        self.title=title\n",
    "        self.author=author\n",
    "        self.year_published=year_published\n",
    "    def get_book_info(self):\n",
    "        return f\"Book title:{self.title},Author :{self.author}, year_published: {self.year_published}\"\n",
    "\n",
    "b1=Book(\"Titanic\",'James',1970)\n",
    "b1.get_book_info()\n",
    "    \n",
    "    \n",
    "\n"
   ]
  },
  {
   "cell_type": "code",
   "execution_count": 17,
   "id": "f8ff7c32-7819-4d03-9991-2d7de8d57e89",
   "metadata": {},
   "outputs": [
    {
     "ename": "_IncompleteInputError",
     "evalue": "incomplete input (2604266001.py, line 3)",
     "output_type": "error",
     "traceback": [
      "\u001b[1;36m  Cell \u001b[1;32mIn[17], line 3\u001b[1;36m\u001b[0m\n\u001b[1;33m    class house:\u001b[0m\n\u001b[1;37m                ^\u001b[0m\n\u001b[1;31m_IncompleteInputError\u001b[0m\u001b[1;31m:\u001b[0m incomplete input\n"
     ]
    }
   ],
   "source": [
    "\"\"\"18. Create a class House with attributes address and price. Create a derived class Mansion that adds an\n",
    "attribute number_of_rooms.\"\"\"\n",
    "class house:\n",
    "    def __init__(self,address,price):\n",
    "        self.address=address\n",
    "        self.price=price\n",
    "    def details(self):\n",
    "        return f\" address is {self.address} and price is {self.price}\"\n",
    "class mansion(house):\n",
    "    def __init__(self,address,price,number_of_rooms):\n",
    "        super().__init__(self,address,price)\n",
    "        self.number_of_rooms=number_of_rooms\n",
    "    def details(self):\n",
    "            return f\" address is {self.address} , price is {self.price} and number of rooms is {self.number_of_rooms}\"\n",
    "\n",
    "h=house('abc',1000)\n",
    "h.details()\n",
    "m=mansion('xyz',2000,3)\n",
    "m.\n",
    "        "
   ]
  },
  {
   "cell_type": "code",
   "execution_count": null,
   "id": "3c16e8f7-9a10-4b89-93ca-c5665bf8178f",
   "metadata": {},
   "outputs": [],
   "source": []
  }
 ],
 "metadata": {
  "kernelspec": {
   "display_name": "Python 3 (ipykernel)",
   "language": "python",
   "name": "python3"
  },
  "language_info": {
   "codemirror_mode": {
    "name": "ipython",
    "version": 3
   },
   "file_extension": ".py",
   "mimetype": "text/x-python",
   "name": "python",
   "nbconvert_exporter": "python",
   "pygments_lexer": "ipython3",
   "version": "3.13.1"
  }
 },
 "nbformat": 4,
 "nbformat_minor": 5
}
