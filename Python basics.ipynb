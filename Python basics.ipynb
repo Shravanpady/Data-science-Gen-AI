{
 "cells": [
  {
   "cell_type": "raw",
   "id": "578999fc-b1bf-4a04-975a-17f0f5d17bc4",
   "metadata": {},
   "source": [
    "1. What is Python, and why is it popular?\n",
    "Python is programme language and it is popular because of simplicity of its coding\n",
    "2. What is an interpreter in Python?\n",
    "The Python interpreter is a program that reads and executes Python code. It translates the high-level Python code into machine-readable instructions and runs them.\n",
    "3. What are pre-defined keywords in Python?\n",
    "These are keywords which are used do specific tasks and are in built in python which can't be used as variables\n",
    "4. Can keywords be used as variable names?\n",
    "No\n",
    "5. What is mutability in Python?\n",
    "mutability  means which can be changed or edited\n",
    "6. Why are lists mutable, but tuples are immutable ?\n",
    "list are mutable becasue its element can be changed or added but in tuples the elements cant be changed\n",
    "7. What is the difference between “==” and “is” operators in Python?\n",
    "== checks whteher values are same or not and \"is\" checks whether memory ocation same or not\n",
    "8. What are logical operators in Python?\n",
    "Logical operators in Python are used to combine conditional statements. They return True or False based on the given conditions. Like AND , OR , NOT\n",
    "9. What is type casting in Python?\n",
    "converting the type of data\n",
    "10. What is the difference between implicit and explicit type casting?\n",
    "in implicit type casting the data directly converted by python and in explicit type casting syntax is required to convert the data\n",
    "11. What is the purpose of conditional statements in Python?\n",
    "conditional statement  give check wheteher condition is true or false and run s the specific block of code  \n",
    "12. How does the elif statement work?\n",
    "The elif statement is used when there are multiple conditions to check. It works by evaluating each condition one by one in order. If a condition is True, the corresponding block of code runs, and the rest of the conditions are skipped. If none of the conditions are True, the else block (if present) is executed\n",
    "13. What is the difference between for and while loops?\n",
    "for is used when the iteration is known and while is  used when the iteration is unkown and loop will run until the condition becomes false\n",
    "14. Describe a scenario where a while loop is more suitable than a for loop?\n",
    "while loop is more suitable for password login which will show error until the password is correct."
   ]
  },
  {
   "cell_type": "code",
   "execution_count": null,
   "id": "65ad1001-f5a2-4a4d-885f-22087d8cc916",
   "metadata": {},
   "outputs": [],
   "source": [
    "#practical Questions"
   ]
  },
  {
   "cell_type": "code",
   "execution_count": 3,
   "id": "4b71371e-c364-4e22-9e99-0b8d5e519481",
   "metadata": {},
   "outputs": [
    {
     "name": "stdout",
     "output_type": "stream",
     "text": [
      "Hello world\n"
     ]
    }
   ],
   "source": [
    "# 1.prgramme to print hello world\n",
    "print(\"Hello world\")"
   ]
  },
  {
   "cell_type": "code",
   "execution_count": 6,
   "id": "c7ccb47f-0de9-4f5d-9426-77a1fc5724f4",
   "metadata": {},
   "outputs": [
    {
     "name": "stdout",
     "output_type": "stream",
     "text": [
      "My name is shravan and Iam 29 years\n"
     ]
    }
   ],
   "source": [
    "#2 Write a Python program that displays your name and age\n",
    "age=29\n",
    "name= 'shravan'\n",
    "print(f'My name is {name} and Iam {age} years')"
   ]
  },
  {
   "cell_type": "code",
   "execution_count": 10,
   "id": "d82bc7ca-4b94-4e6b-a65e-6359405f3428",
   "metadata": {},
   "outputs": [
    {
     "name": "stdout",
     "output_type": "stream",
     "text": [
      "['False', 'None', 'True', 'and', 'as', 'assert', 'async', 'await', 'break', 'class', 'continue', 'def', 'del', 'elif', 'else', 'except', 'finally', 'for', 'from', 'global', 'if', 'import', 'in', 'is', 'lambda', 'nonlocal', 'not', 'or', 'pass', 'raise', 'return', 'try', 'while', 'with', 'yield']\n"
     ]
    }
   ],
   "source": [
    "#3.Write code to print all the pre-defined keywords in Python using the keyword library\n",
    "import keyword\n",
    "print(keyword.kwlist)"
   ]
  },
  {
   "cell_type": "code",
   "execution_count": 20,
   "id": "2a0dcb70-25d2-40fb-9abd-762bb0d0cfc2",
   "metadata": {},
   "outputs": [
    {
     "name": "stdin",
     "output_type": "stream",
     "text": [
      "Enter a word:  True\n"
     ]
    },
    {
     "name": "stdout",
     "output_type": "stream",
     "text": [
      "It is a keyword.\n"
     ]
    }
   ],
   "source": [
    "#4.Write a program that checks if a given word is a Python keyword.\n",
    "import keyword\n",
    "\n",
    "word = input('Enter a word: ')\n",
    "\n",
    "if word in keyword.kwlist:\n",
    "    print(\"It is a keyword.\")\n",
    "else:\n",
    "    print(\"It is not a keyword.\")\n",
    "\n"
   ]
  },
  {
   "cell_type": "code",
   "execution_count": 34,
   "id": "fa40a56a-9d36-4e42-9e73-8925aa0a14c7",
   "metadata": {},
   "outputs": [],
   "source": [
    "\"\"\"5. 'Create a list and tuple in Python, and demonstrate how attempting to change an element works differently\n",
    " for each.\"\"\"\n",
    "tuple_1=(1,2,2,10,5)\n",
    "List_1=[1,2,2,10,5]"
   ]
  },
  {
   "cell_type": "code",
   "execution_count": 31,
   "id": "b7eee960-9b39-438e-b135-dd85e62c66e7",
   "metadata": {},
   "outputs": [
    {
     "ename": "AttributeError",
     "evalue": "'tuple' object has no attribute 'append'",
     "output_type": "error",
     "traceback": [
      "\u001b[1;31m---------------------------------------------------------------------------\u001b[0m",
      "\u001b[1;31mAttributeError\u001b[0m                            Traceback (most recent call last)",
      "Cell \u001b[1;32mIn[31], line 1\u001b[0m\n\u001b[1;32m----> 1\u001b[0m \u001b[43mtuple_1\u001b[49m\u001b[38;5;241;43m.\u001b[39;49m\u001b[43mappend\u001b[49m(\u001b[38;5;241m15\u001b[39m)\n",
      "\u001b[1;31mAttributeError\u001b[0m: 'tuple' object has no attribute 'append'"
     ]
    }
   ],
   "source": [
    "tuple_1.append(15)"
   ]
  },
  {
   "cell_type": "code",
   "execution_count": 35,
   "id": "a67b704c-0756-4a5f-bab9-5b1ab546260f",
   "metadata": {},
   "outputs": [],
   "source": [
    "List_1.append(15)"
   ]
  },
  {
   "cell_type": "code",
   "execution_count": 36,
   "id": "6dde0cac-e81c-4d3e-90ff-fca3b697923d",
   "metadata": {},
   "outputs": [
    {
     "data": {
      "text/plain": [
       "[1, 2, 2, 10, 5, 15]"
      ]
     },
     "execution_count": 36,
     "metadata": {},
     "output_type": "execute_result"
    }
   ],
   "source": [
    "List_1"
   ]
  },
  {
   "cell_type": "code",
   "execution_count": 37,
   "id": "4be15185-3b69-49da-9f87-bb6e10649347",
   "metadata": {},
   "outputs": [
    {
     "name": "stdout",
     "output_type": "stream",
     "text": [
      "Before modification: Immutable argument = 10\n",
      "After modification: Immutable argument = 11\n",
      "Before modification: Mutable argument = [1, 2, 3]\n",
      "After modification: Mutable argument = [1, 2, 3, 100]\n",
      "Outside function: num = 10\n",
      "Outside function: my_list = [1, 2, 3, 100]\n"
     ]
    }
   ],
   "source": [
    "#6. Write a function to demonstrate the behavior of mutable and immutable arguments.\n",
    "def demonstrate_mutability(immutable_arg, mutable_arg):\n",
    "    # Immutable argument (e.g., an integer)\n",
    "    print(f\"Before modification: Immutable argument = {immutable_arg}\")\n",
    "    immutable_arg += 1  # Try to modify it\n",
    "    print(f\"After modification: Immutable argument = {immutable_arg}\")\n",
    "    \n",
    "    # Mutable argument (e.g., a list)\n",
    "    print(f\"Before modification: Mutable argument = {mutable_arg}\")\n",
    "    mutable_arg.append(100)  # Modify it (since it's mutable)\n",
    "    print(f\"After modification: Mutable argument = {mutable_arg}\")\n",
    "\n",
    "# Test with immutable (integer) and mutable (list) arguments\n",
    "num = 10\n",
    "my_list = [1, 2, 3]\n",
    "\n",
    "demonstrate_mutability(num, my_list)\n",
    "\n",
    "# Check outside the function\n",
    "print(f\"Outside function: num = {num}\")  # Immutable argument is unchanged\n",
    "print(f\"Outside function: my_list = {my_list}\")  # Mutable argument is changed\n"
   ]
  },
  {
   "cell_type": "code",
   "execution_count": 51,
   "id": "b30ec958-ffec-49c8-b93b-5285ff1ca45f",
   "metadata": {},
   "outputs": [
    {
     "name": "stdin",
     "output_type": "stream",
     "text": [
      "Enter first number:  2\n",
      "Enter second number:  5\n"
     ]
    },
    {
     "name": "stdout",
     "output_type": "stream",
     "text": [
      "Addition:  7.0\n",
      "Subtraction:  -3.0\n",
      "Multiplication:  10.0\n",
      "Division:  0.4\n"
     ]
    }
   ],
   "source": [
    "#7. Write a program that performs basic arithmetic operations on two user-input numbers.\n",
    "# Get input from the user and convert to numbers\n",
    "a = float(input(\"Enter first number: \"))  # Convert to float for general arithmetic\n",
    "b = float(input(\"Enter second number: \"))\n",
    "\n",
    "# Perform basic arithmetic operations\n",
    "print(\"Addition: \", a + b)\n",
    "print(\"Subtraction: \", a - b)\n",
    "print(\"Multiplication: \", a * b)\n",
    "print(\"Division: \", a / b if b != 0 else \"Cannot divide by zero\")  # Check for division by zero\n"
   ]
  },
  {
   "cell_type": "code",
   "execution_count": 53,
   "id": "37361a5e-65fb-435b-9a6c-0484dc01dc1d",
   "metadata": {},
   "outputs": [
    {
     "name": "stdout",
     "output_type": "stream",
     "text": [
      "True\n",
      "False\n",
      "False\n"
     ]
    }
   ],
   "source": [
    "#8. Write a program to demonstrate the use of logical operators\n",
    "X=10\n",
    "Y=5\n",
    "print(X>3 or Y<5)\n",
    "print(X>3 and Y<5)\n",
    "print(not(X>3))"
   ]
  },
  {
   "cell_type": "code",
   "execution_count": 54,
   "id": "ce5e4817-eb02-4569-a41a-b708d47539ee",
   "metadata": {},
   "outputs": [
    {
     "name": "stdin",
     "output_type": "stream",
     "text": [
      "Enter Number 10\n"
     ]
    },
    {
     "name": "stdout",
     "output_type": "stream",
     "text": [
      "10\n",
      "10\n",
      "10.0\n",
      "True\n"
     ]
    }
   ],
   "source": [
    "#9. Write a Python program to convert user input from string to integer, float, and boolean types\n",
    "Number=input(\"Enter Number\")\n",
    "print(str(Number))\n",
    "print(int(Number))\n",
    "print(float(Number))\n",
    "print(bool(Number))"
   ]
  },
  {
   "cell_type": "code",
   "execution_count": 55,
   "id": "f81d72b5-d8ea-4c6e-8f1f-190ae45844a7",
   "metadata": {},
   "outputs": [
    {
     "data": {
      "text/plain": [
       "(10, 11, 14, 19)"
      ]
     },
     "execution_count": 55,
     "metadata": {},
     "output_type": "execute_result"
    }
   ],
   "source": [
    "#10. Write code to demonstrate type casting with list elements.\n",
    "list_1=[10,11,14,19]\n",
    "tuple(list_1)"
   ]
  },
  {
   "cell_type": "code",
   "execution_count": 59,
   "id": "fb0ea229-e257-477b-959b-b1c76e9d514f",
   "metadata": {},
   "outputs": [
    {
     "name": "stdin",
     "output_type": "stream",
     "text": [
      "Enter Number 0\n"
     ]
    },
    {
     "name": "stdout",
     "output_type": "stream",
     "text": [
      "Number is zero\n"
     ]
    }
   ],
   "source": [
    "#11. Write a program that checks if a number is positive, negative, or zero.\n",
    "number=int(input(\"Enter Number\"))\n",
    "if number>0:\n",
    "    print(\"Number is Positive\")\n",
    "elif number<0:\n",
    "    print(\"Number is Negetive\")\n",
    "else:\n",
    "    print(\"Number is zero\")"
   ]
  },
  {
   "cell_type": "code",
   "execution_count": 60,
   "id": "26cad09a-0766-446d-89e6-2a1f176e5a10",
   "metadata": {},
   "outputs": [
    {
     "name": "stdout",
     "output_type": "stream",
     "text": [
      "1\n",
      "2\n",
      "3\n",
      "4\n",
      "5\n",
      "6\n",
      "7\n",
      "8\n",
      "9\n",
      "10\n"
     ]
    }
   ],
   "source": [
    "#12. Write a for loop to print numbers from 1 to 10.\n",
    "for i in range(1,11):\n",
    "    print(i)"
   ]
  },
  {
   "cell_type": "code",
   "execution_count": 64,
   "id": "39ed30af-f197-4fd8-b802-da18f11fbe05",
   "metadata": {},
   "outputs": [
    {
     "data": {
      "text/plain": [
       "650"
      ]
     },
     "execution_count": 64,
     "metadata": {},
     "output_type": "execute_result"
    }
   ],
   "source": [
    "#13. Write a Python program to find the sum of all even numbers between 1 and 50.\n",
    "sum([i for i in range(1,51) if i%2==0])"
   ]
  },
  {
   "cell_type": "code",
   "execution_count": 68,
   "id": "c7258dae-da75-4289-b81a-0232023a8760",
   "metadata": {},
   "outputs": [
    {
     "name": "stdout",
     "output_type": "stream",
     "text": [
      "sllikswp\n"
     ]
    }
   ],
   "source": [
    "#14. Write a program to reverse a string using a while loop.\n",
    "string= 'pwskills'\n",
    "reverse=''\n",
    "index=len(string)-1\n",
    "while index>=0:\n",
    "    reverse+=string[index]\n",
    "    index-=1\n",
    "print(reverse)\n",
    "    "
   ]
  },
  {
   "cell_type": "code",
   "execution_count": 70,
   "id": "4120191c-c4b5-41e8-a514-29429588881a",
   "metadata": {},
   "outputs": [
    {
     "data": {
      "text/plain": [
       "8"
      ]
     },
     "execution_count": 70,
     "metadata": {},
     "output_type": "execute_result"
    }
   ],
   "source": [
    "len(string)"
   ]
  },
  {
   "cell_type": "code",
   "execution_count": 76,
   "id": "210cabb6-53df-4c0b-bc81-108a56c10630",
   "metadata": {},
   "outputs": [
    {
     "name": "stdin",
     "output_type": "stream",
     "text": [
      "Enter number 4\n"
     ]
    },
    {
     "name": "stdout",
     "output_type": "stream",
     "text": [
      "16\n"
     ]
    }
   ],
   "source": [
    "#15. Write a Python program to calculate the factorial of a number provided by the user using a while loop.\n",
    "a=int(input('Enter number'))\n",
    "factor=1\n",
    "i=1\n",
    "while i<=a:\n",
    "    factor=a*i\n",
    "    i+=1\n",
    "print(factor)"
   ]
  },
  {
   "cell_type": "code",
   "execution_count": null,
   "id": "853e40ec-a538-47fa-8465-20670d84dcae",
   "metadata": {},
   "outputs": [],
   "source": []
  }
 ],
 "metadata": {
  "kernelspec": {
   "display_name": "Python 3 (ipykernel)",
   "language": "python",
   "name": "python3"
  },
  "language_info": {
   "codemirror_mode": {
    "name": "ipython",
    "version": 3
   },
   "file_extension": ".py",
   "mimetype": "text/x-python",
   "name": "python",
   "nbconvert_exporter": "python",
   "pygments_lexer": "ipython3",
   "version": "3.13.1"
  }
 },
 "nbformat": 4,
 "nbformat_minor": 5
}
