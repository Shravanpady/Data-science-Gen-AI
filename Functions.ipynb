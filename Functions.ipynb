{
 "cells": [
  {
   "cell_type": "code",
   "execution_count": null,
   "id": "fd52dbad-4ccb-498d-a5af-011f78495fe5",
   "metadata": {},
   "outputs": [],
   "source": [
    "#Theoretical questions"
   ]
  },
  {
   "cell_type": "code",
   "execution_count": 1,
   "id": "5bd4b4ee-cfbe-4983-a738-c5daa12580cc",
   "metadata": {},
   "outputs": [
    {
     "name": "stdout",
     "output_type": "stream",
     "text": [
      "Hello, Alice!\n"
     ]
    }
   ],
   "source": [
    "#1. What is the difference between a function and a method in Python?\n",
    "# Ans : Function and Method are both use to perform operation but function is independent of object but associated with oject\n",
    " #eg 1 \n",
    "# Function (Independent)\n",
    "def greet(name):\n",
    "    return f\"Hello, {name}!\"\n",
    "\n",
    "print(greet(\"Alice\"))  # Output: Hello, Alice!\n",
    "\n"
   ]
  },
  {
   "cell_type": "code",
   "execution_count": 2,
   "id": "de537d4f-94bf-47c3-8490-0805ae4c0f5d",
   "metadata": {},
   "outputs": [
    {
     "name": "stdout",
     "output_type": "stream",
     "text": [
      "Hello, Alice!\n"
     ]
    }
   ],
   "source": [
    "#eg 2 \n",
    "class Person:\n",
    "    def __init__(self, name):\n",
    "        self.name = name  # Instance variable\n",
    "\n",
    "    def greet(self):  # Method (needs self)\n",
    "        return f\"Hello, {self.name}!\"\n",
    "\n",
    "# Creating an object\n",
    "p = Person(\"Alice\")\n",
    "print(p.greet())  # Output: Hello, Alice!\n"
   ]
  },
  {
   "cell_type": "code",
   "execution_count": null,
   "id": "e3d965b0-56e9-40c2-90fd-27957cb0400b",
   "metadata": {},
   "outputs": [],
   "source": [
    "#2. Explain the concept of function arguments and parameters in Python.\n",
    "#Ans:In Python, parameters and arguments are used to pass data to functions.Parameters are Variables listed in the function definition.Arguments are Values passed to the function when calling it\n",
    "#in example name and age are variables and alice and 25 are argument \n",
    "def greet(name, age):\n",
    "    print(f\"Hello, {name}! You are {age} years old.\")\n",
    "\n",
    "greet(\"Alice\", 25)  # Output: Hello, Alice! You are 25 years old.\n"
   ]
  },
  {
   "cell_type": "code",
   "execution_count": null,
   "id": "bc4420a2-e8cf-4065-bca0-59617ee6e701",
   "metadata": {},
   "outputs": [],
   "source": [
    "#3. What are the different ways to define and call a function in Python?\n",
    "# Ans : Normal syntax of the Function is def Function_name(parameter): and there is also lamda function which is called as anonymous function and a function called inside a class  is known as method\n",
    "'''Example 1:\n",
    "\n",
    "def greet(name, age):\n",
    "    print(f\"Hello, {name}! You are {age} years old.\")\n",
    "\n",
    "greet(\"Alice\", 25)\n",
    "\n",
    "Example 2:\n",
    "add = lambda a, b: a + b\n",
    "\n",
    "Example 3:\n",
    "class Person:\n",
    "    def greet(self, name):\n",
    "        return f\"Hello, {name}!\"\n",
    "'''\n"
   ]
  },
  {
   "cell_type": "code",
   "execution_count": null,
   "id": "edeb5725-0757-442a-8f7a-0d80c9b1ffd2",
   "metadata": {},
   "outputs": [],
   "source": [
    "#4. What is the purpose of the `return` statement in a Python function?\n",
    "#Ans : To exi the function and sent the result to the calller\n",
    "\n"
   ]
  },
  {
   "cell_type": "code",
   "execution_count": null,
   "id": "4e340339-5272-436e-98a9-c92c77cc319d",
   "metadata": {},
   "outputs": [],
   "source": [
    "#5. What are iterators in Python and how do they differ from iterables?\n",
    "#Ans: An iterator is an object that remembers its state and returns elements one by one using the __next__() method. they don't store all the elements like iterables.\n",
    "'''  List and Tuples are iterables but we can use iter() to convert them into iterator\n"
   ]
  },
  {
   "cell_type": "code",
   "execution_count": null,
   "id": "a2f96d7d-6ad9-4172-9116-760b3977adc4",
   "metadata": {},
   "outputs": [],
   "source": [
    "#6. Explain the concept of generators in Python and how they are defined.\n",
    "#Ans : Generators in Python are a special type of iterator that allow you to create an iterable sequence without storing all values in memory. They are defined using the yield keyword instead of return\n",
    "''' Example\n",
    "def count_up_to(n):\n",
    "    count = 1\n",
    "    while count <= n:\n",
    "        yield count  # Yield instead of return\n",
    "        count += 1\n",
    "\n",
    "# Using the generator\n",
    "gen = count_up_to(5)\n",
    "\n",
    "print(next(gen))  # Output: 1\n",
    "print(next(gen))  # Output: 2\n",
    "print(next(gen))  # Output: 3\n"
   ]
  },
  {
   "cell_type": "code",
   "execution_count": null,
   "id": "e4317b15-7523-4a1d-88d9-973241a2e456",
   "metadata": {},
   "outputs": [],
   "source": [
    "#7. What are the advantages of using generators over regular functions?\n",
    "# Ans: they reduce memory conumption and increase processing time\n",
    "''' Example 1\n",
    "def large_numbers(n):\n",
    "    for i in range(n):\n",
    "        yield i  # Generates values one at a time\n",
    "\n",
    "gen = large_numbers(1000000)  # No memory issue\n",
    "print(next(gen))  # Output: 0\n",
    "print(next(gen))  # Output: 1\n"
   ]
  },
  {
   "cell_type": "code",
   "execution_count": null,
   "id": "e4e6970a-8551-4e9d-88a2-404d92dc74fe",
   "metadata": {},
   "outputs": [],
   "source": [
    "#8. What is a lambda function in Python and when is it typically used?\n",
    "# Ans : It is Anonymous function because you dont have to define the function name and it can be used for reduce and map function\n",
    "''' Example\n",
    "from functools import reduce\n",
    "\n",
    "numbers = [1, 2, 3, 4, 5]\n",
    "product = reduce(lambda x, y: x * y, numbers)\n",
    "print(product)  # Output: 120\n",
    "'''"
   ]
  },
  {
   "cell_type": "code",
   "execution_count": null,
   "id": "e4a723a4-940e-4f99-adf3-8ac828e9f891",
   "metadata": {},
   "outputs": [],
   "source": [
    "#9. Explain the purpose and usage of the `map()` function in Python.\n",
    "#Ans : The map() function in Python is used to apply a function to every item in an iterable (like a list or tuple) without using a loop. It returns an iterator that contains the transformed values.\n",
    "''' Example\n",
    "def square(x):\n",
    "    return x**2\n",
    "\n",
    "numbers = [1, 2, 3, 4, 5]\n",
    "squared_numbers = list(map(square, numbers))\n",
    "\n",
    "print(squared_numbers)  # Output: [1, 4, 9, 16, 25]\n"
   ]
  },
  {
   "cell_type": "code",
   "execution_count": null,
   "id": "379cda0b-7916-4638-9eee-04ecc54c77c3",
   "metadata": {},
   "outputs": [],
   "source": [
    "\n",
    "#10. What is the difference between `map()`, `reduce()`, and `filter()` functions in Python?\n",
    "#Ans : Map(() is used to apply the function to each element in iterables,reduce() reduces the elemets of iterable into one single element,Filter() gives the output of elements which satisfy the condition\n"
   ]
  },
  {
   "cell_type": "code",
   "execution_count": 3,
   "id": "2ab6120c-d759-414d-8340-d4be45d7ce60",
   "metadata": {},
   "outputs": [
    {
     "name": "stdout",
     "output_type": "stream",
     "text": [
      "[1, 4, 9, 16, 25]\n"
     ]
    }
   ],
   "source": [
    "#Example 1\n",
    "numbers = [1, 2, 3, 4, 5]\n",
    "squared = list(map(lambda x: x**2, numbers))\n",
    "print(squared)  # Output: [1, 4, 9, 16, 25]\n"
   ]
  },
  {
   "cell_type": "code",
   "execution_count": 4,
   "id": "05795028-d1dd-4342-8c51-e196f01d87a4",
   "metadata": {},
   "outputs": [
    {
     "name": "stdout",
     "output_type": "stream",
     "text": [
      "[2, 4, 6]\n"
     ]
    }
   ],
   "source": [
    "#Example 2\n",
    "numbers = [1, 2, 3, 4, 5, 6]\n",
    "even_numbers = list(filter(lambda x: x % 2 == 0, numbers))\n",
    "print(even_numbers)  # Output: [2, 4, 6]\n"
   ]
  },
  {
   "cell_type": "code",
   "execution_count": 5,
   "id": "1e1f79ff-2ce3-4550-80cf-382ddac2c88b",
   "metadata": {},
   "outputs": [
    {
     "name": "stdout",
     "output_type": "stream",
     "text": [
      "120\n"
     ]
    }
   ],
   "source": [
    "#Example 3\n",
    "from functools import reduce\n",
    "\n",
    "numbers = [1, 2, 3, 4, 5]\n",
    "product = reduce(lambda x, y: x * y, numbers)\n",
    "print(product)  # Output: 120\n"
   ]
  },
  {
   "cell_type": "code",
   "execution_count": null,
   "id": "1e622b37-eebb-49c1-adfc-1f3788a53268",
   "metadata": {},
   "outputs": [],
   "source": [
    "#Using pen & Paper write the internal mechanism for sum operation using  reduce function on this given\n",
    "list:[47,11,42,13];\n",
    "from functools import reduce\n",
    "\n",
    "result = reduce(lambda x, y: x + y, [47, 11, 42, 13])\n",
    "print(result)  # Output: 113\n",
    "\n",
    "#Ans : Attached in Document"
   ]
  },
  {
   "cell_type": "code",
   "execution_count": null,
   "id": "39b0104a-3f50-4cff-bf6a-e67fe011d627",
   "metadata": {},
   "outputs": [],
   "source": [
    "#prcatical Questions"
   ]
  },
  {
   "cell_type": "code",
   "execution_count": 9,
   "id": "222bafc4-0ea2-43f3-8564-f88de04a391b",
   "metadata": {},
   "outputs": [
    {
     "data": {
      "text/plain": [
       "12"
      ]
     },
     "execution_count": 9,
     "metadata": {},
     "output_type": "execute_result"
    }
   ],
   "source": [
    "'''#1. Write a Python function that takes a list of numbers as input and returns the sum of all even numbers in\n",
    "the list.'''\n",
    "List=[1,2,3,4,5,6]\n",
    "sum(filter(lambda X:X%2==0,List))"
   ]
  },
  {
   "cell_type": "code",
   "execution_count": 4,
   "id": "65eeb0bc-a0df-4e49-a752-2b4e567a259f",
   "metadata": {},
   "outputs": [],
   "source": [
    "#2. Create a Python function that accepts a string and returns the reverse of that string\n",
    "Name='Ajay'\n",
    "def Reverse(Name):\n",
    "    Result=Name[::-1]\n",
    "    return Result"
   ]
  },
  {
   "cell_type": "code",
   "execution_count": 5,
   "id": "d9db4063-eca5-46a3-871d-bd1398da589c",
   "metadata": {},
   "outputs": [
    {
     "data": {
      "text/plain": [
       "'yajA'"
      ]
     },
     "execution_count": 5,
     "metadata": {},
     "output_type": "execute_result"
    }
   ],
   "source": [
    "Reverse(Name)"
   ]
  },
  {
   "cell_type": "code",
   "execution_count": 12,
   "id": "78a88372-b278-485a-abdc-ae41ccd2326f",
   "metadata": {},
   "outputs": [
    {
     "name": "stdout",
     "output_type": "stream",
     "text": [
      "[1, 4, 9, 16, 25, 36]\n"
     ]
    }
   ],
   "source": [
    "'''#3. Implement a Python function that takes a list of integers and returns a new list containing the squares of\n",
    "each number.'''\n",
    "#Ans\n",
    "List=[1,2,3,4,5,6]\n",
    "Square=list(map(lambda x:x**2,List))\n",
    "print(Square)"
   ]
  },
  {
   "cell_type": "code",
   "execution_count": 22,
   "id": "879a8d68-d1f1-4f2f-9270-439a0fed5fc0",
   "metadata": {},
   "outputs": [
    {
     "name": "stdout",
     "output_type": "stream",
     "text": [
      "Number is not prime\n"
     ]
    }
   ],
   "source": [
    "#4. Write a Python function that checks if a given number is prime or not from 1 to 200\n",
    "def prime(number):\n",
    "    if number <= 1:  # Prime numbers are greater than 1\n",
    "        print(\"Number is not prime\")\n",
    "        return\n",
    "    \n",
    "    for i in range(2, int(number ** 0.5) + 1):  # Check divisibility up to sqrt(number)\n",
    "        if number % i == 0:\n",
    "            print(\"Number is not prime\")\n",
    "            return\n",
    "    \n",
    "    print(\"Number is prime\")\n",
    "\n",
    "prime(10)\n"
   ]
  },
  {
   "cell_type": "code",
   "execution_count": null,
   "id": "712f2c50-b0da-476a-bf29-922bf838cce0",
   "metadata": {},
   "outputs": [],
   "source": [
    "'''#5. Create an iterator class in Python that generates the Fibonacci sequence up to a specified number of\n",
    "terms.'''\n",
    "class Fibonacci:\n",
    "    def __init__(self, terms):\n",
    "        self.terms = terms  # Number of terms to generate\n",
    "        self.a, self.b = 0, 1  # First two Fibonacci numbers\n",
    "        self.count = 0  # Track iteration count\n",
    "\n",
    "    def __iter__(self):\n",
    "        return self  # Returns the iterator object itself\n",
    "\n",
    "    def __next__(self):\n",
    "        if self.count >= self.terms:  # Stop iteration when the limit is reached\n",
    "            raise StopIteration\n",
    "        \n",
    "        if self.count == 0:\n",
    "            self.count += 1\n",
    "            return self.a\n",
    "        elif self.count == 1:\n",
    "            self.count += 1\n",
    "            return self.b\n",
    "        \n",
    "        # Generate the next Fibonacci number\n",
    "        fib_num = self.a + self.b\n",
    "        self.a, self.b = self.b, fib_num  # Update values for next iteration\n",
    "        self.count += 1\n",
    "        return fib_num\n",
    "\n",
    "# Example usage:\n",
    "fib_iterator = Fibonacci(10)  # Generate first 10 Fibonacci numbers\n",
    "for num in fib_iterator:\n",
    "    print(num, end=\" \")  # Output: 0 1 1 2 3 5 8 13 21 34\n"
   ]
  },
  {
   "cell_type": "code",
   "execution_count": null,
   "id": "f6fd8c38-2040-493a-bd56-4bb1431c14b9",
   "metadata": {},
   "outputs": [],
   "source": [
    "#6. Write a generator function in Python that yields the powers of 2 up to a given exponent.\n",
    "def powers_of_2(max_exponent):\n",
    "    for exponent in range(max_exponent + 1):  # Loop from 0 to max_exponent\n",
    "        yield 2 ** exponent  # Yield 2 raised to the power of exponent\n",
    "\n",
    "# Example usage:\n",
    "for power in powers_of_2(5):  \n",
    "    print(power, end=\" \")  # Output: 1 2 4 8 16 32\n"
   ]
  },
  {
   "cell_type": "code",
   "execution_count": null,
   "id": "09afdec4-6e2a-4ba7-a3f9-6c3f75a8eea5",
   "metadata": {},
   "outputs": [],
   "source": [
    "#7. Implement a generator function that reads a file line by line and yields each line as a string.\n",
    "def read_file_line_by_line(file_path):\n",
    "    try:\n",
    "        with open(file_path, \"r\") as file:  # Open the file in read mode\n",
    "            for line in file:\n",
    "                yield line.strip()  # Yield each line without trailing newlines\n",
    "    except FileNotFoundError:\n",
    "        print(\"Error: File not found!\")\n",
    "    except Exception as e:\n",
    "        print(f\"An error occurred: {e}\")\n",
    "\n",
    "# Example usage:\n",
    "file_path = \"sample.txt\"  # Replace with your file path\n",
    "for line in read_file_line_by_line(file_path):\n",
    "    print(line)  # Prints each line from the file\n",
    "\n"
   ]
  },
  {
   "cell_type": "code",
   "execution_count": null,
   "id": "d86d12d7-0755-41d0-8d43-525b74a97551",
   "metadata": {},
   "outputs": [],
   "source": [
    "#8. Use a lambda function in Python to sort a list of tuples based on the second element of each tuple.\n",
    "# List of tuples (Example: Name, Age)\n",
    "data = [(\"Alice\", 25), (\"Bob\", 20), (\"Charlie\", 30), (\"David\", 22)]\n",
    "\n",
    "# Sorting based on the second element (age)\n",
    "sorted_data = sorted(data, key=lambda x: x[1])\n",
    "\n",
    "# Output the sorted list\n",
    "print(sorted_data)  \n",
    "# Output: [('Bob', 20), ('David', 22), ('Alice', 25), ('Charlie', 30)]\n",
    "\n"
   ]
  },
  {
   "cell_type": "code",
   "execution_count": null,
   "id": "c0b0aa12-4ca6-4eb4-ad34-ed8c653f2dd8",
   "metadata": {},
   "outputs": [],
   "source": [
    "#9. Write a Python program that uses `map()` to convert a list of temperatures from Celsius to Fahrenheit.\n",
    "# List of temperatures in Celsius\n",
    "celsius_temperatures = [0, 20, 30, 37, 100]\n",
    "\n",
    "# Convert Celsius to Fahrenheit using map() and lambda\n",
    "fahrenheit_temperatures = list(map(lambda c: (c * 9/5) + 32, celsius_temperatures))\n",
    "\n",
    "# Output the converted temperatures\n",
    "print(fahrenheit_temperatures)  \n",
    "# Output: [32.0, 68.0, 86.0, 98\n",
    "\n"
   ]
  },
  {
   "cell_type": "code",
   "execution_count": null,
   "id": "91f40930-4013-4c4a-aa91-ef787827917a",
   "metadata": {},
   "outputs": [],
   "source": [
    "#10. Create a Python program that uses `filter()` to remove all the vowels from a given string.\n",
    "def remove_vowels(string):\n",
    "    vowels = \"aeiouAEIOU\"  # Define vowels (both uppercase & lowercase)\n",
    "    return \"\".join(filter(lambda char: char not in vowels, string))\n",
    "\n",
    "# Example usage:\n",
    "input_string = \"Hello, World!\"\n",
    "output_string = remove_vowels(input_string)\n",
    "\n",
    "print(output_string)  \n",
    "# Output: \"Hll, Wrld!\"\n",
    "\n"
   ]
  },
  {
   "cell_type": "code",
   "execution_count": 32,
   "id": "bcc48711-7bfa-433e-8c64-e4100b95f06a",
   "metadata": {},
   "outputs": [
    {
     "name": "stdout",
     "output_type": "stream",
     "text": [
      "[(34587, 173.8), (98762, 294.0), (77226, 108.85000000000001), (88112, 84.97)]\n"
     ]
    }
   ],
   "source": [
    "\n",
    "'''11) Imagine an accounting routine used in a book shop. It works on a list with sublists, which look like this:\n",
    "\n",
    "Write a Python program, which returns a list with 2-tuples. Each tuple consists of the order number and the\n",
    "product of the price per item and the quantity. The product should be increased by 10,- € if the value of the\n",
    "order is smaller than 100,00 €.\n",
    "\n",
    "Write a Python program using lambda and map'''\n",
    "# Given book order list (Order Number, Book Title and Author, Quantity, Price per Item)\n",
    "orders = [\n",
    "    (34587, \"Learning Python, Mark Lutz\", 4, 40.95),\n",
    "    (98762, \"Programming Python, Mark Lutz\", 5, 56.80),\n",
    "    (77226, \"Head First Python, Paul Barry\", 3, 32.95),\n",
    "    (88112, \"Einführung in Python3, Bernd Klein\", 3, 24.99)\n",
    "]\n",
    "\n",
    "# Use map() and lambda to process the list\n",
    "order_totals = list(map(lambda order: (order[0], order[2] * order[3] + (10 if order[2] * order[3] < 10000 else 0)), orders))\n",
    "\n",
    "# Output the processed order list\n",
    "print(order_totals)\n"
   ]
  },
  {
   "cell_type": "code",
   "execution_count": null,
   "id": "8738e9d0-6c0a-4b3a-a1f9-9c9321e0009f",
   "metadata": {},
   "outputs": [],
   "source": []
  },
  {
   "cell_type": "code",
   "execution_count": null,
   "id": "2ffc6a3f-778d-42f2-bbe1-bbf62f883d0e",
   "metadata": {},
   "outputs": [],
   "source": []
  },
  {
   "cell_type": "code",
   "execution_count": null,
   "id": "32d224da-fcf3-471f-b50c-d2440d794d5f",
   "metadata": {},
   "outputs": [],
   "source": []
  }
 ],
 "metadata": {
  "kernelspec": {
   "display_name": "Python 3 (ipykernel)",
   "language": "python",
   "name": "python3"
  },
  "language_info": {
   "codemirror_mode": {
    "name": "ipython",
    "version": 3
   },
   "file_extension": ".py",
   "mimetype": "text/x-python",
   "name": "python",
   "nbconvert_exporter": "python",
   "pygments_lexer": "ipython3",
   "version": "3.13.1"
  }
 },
 "nbformat": 4,
 "nbformat_minor": 5
}
